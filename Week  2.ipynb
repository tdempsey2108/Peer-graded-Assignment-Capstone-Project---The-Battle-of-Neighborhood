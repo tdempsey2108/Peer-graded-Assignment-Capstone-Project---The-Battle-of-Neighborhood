{
 "cells": [
  {
   "cell_type": "markdown",
   "metadata": {},
   "source": [
    "## Part 1"
   ]
  },
  {
   "cell_type": "markdown",
   "metadata": {},
   "source": [
    "### Introduction"
   ]
  },
  {
   "cell_type": "markdown",
   "metadata": {},
   "source": [
    "#### The business problem I decided to tackle was to figure out where the locations of fitness centers are in correlation to city hall in Philadelphia, Pennsylvania. As a new citizen of this city and keen on getting into shape after a workday. Finding the closest fitness center is ideal for any member to where offices are located and places to live in the area. With the city as a whole as a populating for 1.5 million. Finding that fitness center close to where offices are located will be key in the search. "
   ]
  },
  {
   "cell_type": "markdown",
   "metadata": {},
   "source": [
    "### Data"
   ]
  },
  {
   "cell_type": "markdown",
   "metadata": {},
   "source": [
    "#### The Data used was taken from foursquare location services with a radius of “5000” with the keyword of “fitness centers.” Using City hall as a center point (green dot) any locations that are considered fitness centers will be red dots.  "
   ]
  },
  {
   "cell_type": "code",
   "execution_count": 31,
   "metadata": {},
   "outputs": [
    {
     "name": "stdout",
     "output_type": "stream",
     "text": [
      "Requirement already satisfied: geopy in /home/jupyterlab/conda/envs/python/lib/python3.6/site-packages (2.0.0)\n",
      "Requirement already satisfied: geographiclib<2,>=1.49 in /home/jupyterlab/conda/envs/python/lib/python3.6/site-packages (from geopy) (1.50)\n",
      "Libraries imported.\n"
     ]
    }
   ],
   "source": [
    "import numpy as np # library to handle data\n",
    "!pip install geopy\n",
    "\n",
    "import pandas as pd # library for data analsysis\n",
    "pd.set_option('display.max_columns', None)\n",
    "pd.set_option('display.max_rows', None)\n",
    "import matplotlib.pyplot as plt\n",
    "\n",
    "import json # library to handle JSON files\n",
    "\n",
    "#!conda install -c conda-forge geopy --yes\n",
    "from geopy.geocoders import Nominatim # convert an address into latitude and longitude values\n",
    "\n",
    "import requests # library to handle requests\n",
    "from pandas.io.json import json_normalize # tranform JSON file into a pandas dataframe\n",
    "\n",
    "# Matplotlib and associated plotting modules\n",
    "import matplotlib.cm as cm\n",
    "import matplotlib.colors as colors\n",
    "\n",
    "# import k-means from clustering stage\n",
    "from sklearn.cluster import KMeans\n",
    "\n",
    "#!conda install -c conda-forge folium=0.5.0 --yes # uncomment this line if you haven't completed the Foursquare API lab\n",
    "import folium # map rendering library\n",
    "\n",
    "print('Libraries imported.')"
   ]
  },
  {
   "cell_type": "code",
   "execution_count": 32,
   "metadata": {},
   "outputs": [
    {
     "name": "stdout",
     "output_type": "stream",
     "text": [
      "The geograpical coordinate of Philadelphia, Pennsylvania is 39.9527237, -75.1635262.\n"
     ]
    }
   ],
   "source": [
    "# Get longitude and latitude for Philadelphia, Pennsylvania\n",
    "address = 'Philadelphia, Pennsylvania'\n",
    "\n",
    "geolocator = Nominatim(user_agent=\"philly_gyms\")\n",
    "location = geolocator.geocode(address)\n",
    "latitude = location.latitude\n",
    "longitude = location.longitude\n",
    "print('The geograpical coordinate of Philadelphia, Pennsylvania is {}, {}.'.format(latitude, longitude))"
   ]
  },
  {
   "cell_type": "code",
   "execution_count": 33,
   "metadata": {},
   "outputs": [
    {
     "name": "stdout",
     "output_type": "stream",
     "text": [
      "Your credentails:\n",
      "CLIENT_ID: Z3VRLYKLCV1WKV4414VIXVG4MUFIKDBPZF2RGG31RU02EHBQ\n",
      "CLIENT_SECRET:PLMCX5URJDC1QC0SN3QS0XLAX4X5OQER4GNAQSSPLJ5ORU3L\n"
     ]
    }
   ],
   "source": [
    "# Set up Foursquare\n",
    "CLIENT_ID = 'Z3VRLYKLCV1WKV4414VIXVG4MUFIKDBPZF2RGG31RU02EHBQ' # your Foursquare ID\n",
    "CLIENT_SECRET = 'PLMCX5URJDC1QC0SN3QS0XLAX4X5OQER4GNAQSSPLJ5ORU3L' # your Foursquare Secret\n",
    "VERSION = '20180605' # Foursquare API version\n",
    "LIMIT = 100\n",
    "print('Your credentails:')\n",
    "print('CLIENT_ID: ' + CLIENT_ID)\n",
    "print('CLIENT_SECRET:' + CLIENT_SECRET)"
   ]
  },
  {
   "cell_type": "code",
   "execution_count": 34,
   "metadata": {},
   "outputs": [
    {
     "name": "stdout",
     "output_type": "stream",
     "text": [
      "Fitness Centers Found\n"
     ]
    }
   ],
   "source": [
    "search_query = 'Fitness Centers'\n",
    "radius = 5000\n",
    "print(search_query + ' Found')"
   ]
  },
  {
   "cell_type": "code",
   "execution_count": 35,
   "metadata": {},
   "outputs": [
    {
     "data": {
      "text/plain": [
       "'https://api.foursquare.com/v2/venues/search?client_id=Z3VRLYKLCV1WKV4414VIXVG4MUFIKDBPZF2RGG31RU02EHBQ&client_secret=PLMCX5URJDC1QC0SN3QS0XLAX4X5OQER4GNAQSSPLJ5ORU3L&ll=39.9527237,-75.1635262&v=20180605&query=Fitness Centers&radius=5000&limit=100'"
      ]
     },
     "execution_count": 35,
     "metadata": {},
     "output_type": "execute_result"
    }
   ],
   "source": [
    "url = 'https://api.foursquare.com/v2/venues/search?client_id={}&client_secret={}&ll={},{}&v={}&query={}&radius={}&limit={}'.format(CLIENT_ID, CLIENT_SECRET, latitude, longitude, VERSION, search_query, radius, LIMIT)\n",
    "url"
   ]
  },
  {
   "cell_type": "code",
   "execution_count": 36,
   "metadata": {},
   "outputs": [],
   "source": [
    "results = requests.get(url).json()"
   ]
  },
  {
   "cell_type": "code",
   "execution_count": 37,
   "metadata": {},
   "outputs": [
    {
     "name": "stderr",
     "output_type": "stream",
     "text": [
      "/home/jupyterlab/conda/envs/python/lib/python3.6/site-packages/ipykernel_launcher.py:5: FutureWarning: pandas.io.json.json_normalize is deprecated, use pandas.json_normalize instead\n",
      "  \"\"\"\n"
     ]
    },
    {
     "data": {
      "text/html": [
       "<div>\n",
       "<style scoped>\n",
       "    .dataframe tbody tr th:only-of-type {\n",
       "        vertical-align: middle;\n",
       "    }\n",
       "\n",
       "    .dataframe tbody tr th {\n",
       "        vertical-align: top;\n",
       "    }\n",
       "\n",
       "    .dataframe thead th {\n",
       "        text-align: right;\n",
       "    }\n",
       "</style>\n",
       "<table border=\"1\" class=\"dataframe\">\n",
       "  <thead>\n",
       "    <tr style=\"text-align: right;\">\n",
       "      <th></th>\n",
       "      <th>id</th>\n",
       "      <th>name</th>\n",
       "      <th>categories</th>\n",
       "      <th>referralId</th>\n",
       "      <th>hasPerk</th>\n",
       "      <th>location.address</th>\n",
       "      <th>location.crossStreet</th>\n",
       "      <th>location.lat</th>\n",
       "      <th>location.lng</th>\n",
       "      <th>location.labeledLatLngs</th>\n",
       "      <th>location.distance</th>\n",
       "      <th>location.postalCode</th>\n",
       "      <th>location.cc</th>\n",
       "      <th>location.city</th>\n",
       "      <th>location.state</th>\n",
       "      <th>location.country</th>\n",
       "      <th>location.formattedAddress</th>\n",
       "      <th>venuePage.id</th>\n",
       "    </tr>\n",
       "  </thead>\n",
       "  <tbody>\n",
       "    <tr>\n",
       "      <th>0</th>\n",
       "      <td>4e3fd160483b04e17ab3d932</td>\n",
       "      <td>Fitness Center</td>\n",
       "      <td>[{'id': '4bf58dd8d48988d175941735', 'name': 'G...</td>\n",
       "      <td>v-1598489598</td>\n",
       "      <td>False</td>\n",
       "      <td>1414 S Penn Sq</td>\n",
       "      <td>at The Residences at the Ritz Carlton</td>\n",
       "      <td>39.951488</td>\n",
       "      <td>-75.164925</td>\n",
       "      <td>[{'label': 'display', 'lat': 39.95148849487305...</td>\n",
       "      <td>182</td>\n",
       "      <td>19102</td>\n",
       "      <td>US</td>\n",
       "      <td>Philadelphia</td>\n",
       "      <td>PA</td>\n",
       "      <td>United States</td>\n",
       "      <td>[1414 S Penn Sq (at The Residences at the Ritz...</td>\n",
       "      <td>NaN</td>\n",
       "    </tr>\n",
       "    <tr>\n",
       "      <th>1</th>\n",
       "      <td>4fe1061ee4b0cc64d6f9f9cf</td>\n",
       "      <td>Fitness Center</td>\n",
       "      <td>[{'id': '4bf58dd8d48988d176941735', 'name': 'G...</td>\n",
       "      <td>v-1598489598</td>\n",
       "      <td>False</td>\n",
       "      <td>1421 Arch St</td>\n",
       "      <td>at Le Méridien Philadelphia</td>\n",
       "      <td>39.954933</td>\n",
       "      <td>-75.164253</td>\n",
       "      <td>[{'label': 'display', 'lat': 39.95493316650390...</td>\n",
       "      <td>253</td>\n",
       "      <td>19102</td>\n",
       "      <td>US</td>\n",
       "      <td>Philadelphia</td>\n",
       "      <td>PA</td>\n",
       "      <td>United States</td>\n",
       "      <td>[1421 Arch St (at Le Méridien Philadelphia), P...</td>\n",
       "      <td>NaN</td>\n",
       "    </tr>\n",
       "    <tr>\n",
       "      <th>2</th>\n",
       "      <td>4f6c5ff8e4b07a4bc3568a1e</td>\n",
       "      <td>Fitness Center</td>\n",
       "      <td>[{'id': '4bf58dd8d48988d176941735', 'name': 'G...</td>\n",
       "      <td>v-1598489598</td>\n",
       "      <td>False</td>\n",
       "      <td>1201 Market St</td>\n",
       "      <td>at Philadelphia Marriott Downtown</td>\n",
       "      <td>39.952059</td>\n",
       "      <td>-75.160670</td>\n",
       "      <td>[{'label': 'display', 'lat': 39.95205877098671...</td>\n",
       "      <td>254</td>\n",
       "      <td>19107</td>\n",
       "      <td>US</td>\n",
       "      <td>Philadelphia</td>\n",
       "      <td>PA</td>\n",
       "      <td>United States</td>\n",
       "      <td>[1201 Market St (at Philadelphia Marriott Down...</td>\n",
       "      <td>NaN</td>\n",
       "    </tr>\n",
       "    <tr>\n",
       "      <th>3</th>\n",
       "      <td>4eb318e94690030a964f2c41</td>\n",
       "      <td>Fitness Center</td>\n",
       "      <td>[{'id': '4bf58dd8d48988d175941735', 'name': 'G...</td>\n",
       "      <td>v-1598489598</td>\n",
       "      <td>False</td>\n",
       "      <td>1411 Walnut St</td>\n",
       "      <td>at The Exchange</td>\n",
       "      <td>39.949659</td>\n",
       "      <td>-75.164932</td>\n",
       "      <td>[{'label': 'display', 'lat': 39.94965900000000...</td>\n",
       "      <td>361</td>\n",
       "      <td>19107</td>\n",
       "      <td>US</td>\n",
       "      <td>Philadelphia</td>\n",
       "      <td>PA</td>\n",
       "      <td>United States</td>\n",
       "      <td>[1411 Walnut St (at The Exchange), Philadelphi...</td>\n",
       "      <td>NaN</td>\n",
       "    </tr>\n",
       "    <tr>\n",
       "      <th>4</th>\n",
       "      <td>50bcf1bde4b069826d82436c</td>\n",
       "      <td>Fitness Center</td>\n",
       "      <td>[{'id': '4bf58dd8d48988d175941735', 'name': 'G...</td>\n",
       "      <td>v-1598489598</td>\n",
       "      <td>False</td>\n",
       "      <td>1100 Arch St</td>\n",
       "      <td>at Hilton Garden Inn</td>\n",
       "      <td>39.953663</td>\n",
       "      <td>-75.158089</td>\n",
       "      <td>[{'label': 'display', 'lat': 39.95366287231445...</td>\n",
       "      <td>475</td>\n",
       "      <td>19107</td>\n",
       "      <td>US</td>\n",
       "      <td>Philadelphia</td>\n",
       "      <td>PA</td>\n",
       "      <td>United States</td>\n",
       "      <td>[1100 Arch St (at Hilton Garden Inn), Philadel...</td>\n",
       "      <td>NaN</td>\n",
       "    </tr>\n",
       "  </tbody>\n",
       "</table>\n",
       "</div>"
      ],
      "text/plain": [
       "                         id            name  \\\n",
       "0  4e3fd160483b04e17ab3d932  Fitness Center   \n",
       "1  4fe1061ee4b0cc64d6f9f9cf  Fitness Center   \n",
       "2  4f6c5ff8e4b07a4bc3568a1e  Fitness Center   \n",
       "3  4eb318e94690030a964f2c41  Fitness Center   \n",
       "4  50bcf1bde4b069826d82436c  Fitness Center   \n",
       "\n",
       "                                          categories    referralId  hasPerk  \\\n",
       "0  [{'id': '4bf58dd8d48988d175941735', 'name': 'G...  v-1598489598    False   \n",
       "1  [{'id': '4bf58dd8d48988d176941735', 'name': 'G...  v-1598489598    False   \n",
       "2  [{'id': '4bf58dd8d48988d176941735', 'name': 'G...  v-1598489598    False   \n",
       "3  [{'id': '4bf58dd8d48988d175941735', 'name': 'G...  v-1598489598    False   \n",
       "4  [{'id': '4bf58dd8d48988d175941735', 'name': 'G...  v-1598489598    False   \n",
       "\n",
       "  location.address                   location.crossStreet  location.lat  \\\n",
       "0   1414 S Penn Sq  at The Residences at the Ritz Carlton     39.951488   \n",
       "1     1421 Arch St            at Le Méridien Philadelphia     39.954933   \n",
       "2   1201 Market St      at Philadelphia Marriott Downtown     39.952059   \n",
       "3   1411 Walnut St                        at The Exchange     39.949659   \n",
       "4     1100 Arch St                   at Hilton Garden Inn     39.953663   \n",
       "\n",
       "   location.lng                            location.labeledLatLngs  \\\n",
       "0    -75.164925  [{'label': 'display', 'lat': 39.95148849487305...   \n",
       "1    -75.164253  [{'label': 'display', 'lat': 39.95493316650390...   \n",
       "2    -75.160670  [{'label': 'display', 'lat': 39.95205877098671...   \n",
       "3    -75.164932  [{'label': 'display', 'lat': 39.94965900000000...   \n",
       "4    -75.158089  [{'label': 'display', 'lat': 39.95366287231445...   \n",
       "\n",
       "   location.distance location.postalCode location.cc location.city  \\\n",
       "0                182               19102          US  Philadelphia   \n",
       "1                253               19102          US  Philadelphia   \n",
       "2                254               19107          US  Philadelphia   \n",
       "3                361               19107          US  Philadelphia   \n",
       "4                475               19107          US  Philadelphia   \n",
       "\n",
       "  location.state location.country  \\\n",
       "0             PA    United States   \n",
       "1             PA    United States   \n",
       "2             PA    United States   \n",
       "3             PA    United States   \n",
       "4             PA    United States   \n",
       "\n",
       "                           location.formattedAddress venuePage.id  \n",
       "0  [1414 S Penn Sq (at The Residences at the Ritz...          NaN  \n",
       "1  [1421 Arch St (at Le Méridien Philadelphia), P...          NaN  \n",
       "2  [1201 Market St (at Philadelphia Marriott Down...          NaN  \n",
       "3  [1411 Walnut St (at The Exchange), Philadelphi...          NaN  \n",
       "4  [1100 Arch St (at Hilton Garden Inn), Philadel...          NaN  "
      ]
     },
     "execution_count": 37,
     "metadata": {},
     "output_type": "execute_result"
    }
   ],
   "source": [
    "# assign relevant part of JSON to venues\n",
    "venues = results['response']['venues']\n",
    "\n",
    "# tranform venues into a dataframe\n",
    "dataframe = json_normalize(venues)\n",
    "dataframe.head()"
   ]
  },
  {
   "cell_type": "code",
   "execution_count": 38,
   "metadata": {},
   "outputs": [
    {
     "data": {
      "text/html": [
       "<div>\n",
       "<style scoped>\n",
       "    .dataframe tbody tr th:only-of-type {\n",
       "        vertical-align: middle;\n",
       "    }\n",
       "\n",
       "    .dataframe tbody tr th {\n",
       "        vertical-align: top;\n",
       "    }\n",
       "\n",
       "    .dataframe thead th {\n",
       "        text-align: right;\n",
       "    }\n",
       "</style>\n",
       "<table border=\"1\" class=\"dataframe\">\n",
       "  <thead>\n",
       "    <tr style=\"text-align: right;\">\n",
       "      <th></th>\n",
       "      <th>name</th>\n",
       "      <th>categories</th>\n",
       "      <th>address</th>\n",
       "      <th>crossStreet</th>\n",
       "      <th>lat</th>\n",
       "      <th>lng</th>\n",
       "      <th>labeledLatLngs</th>\n",
       "      <th>distance</th>\n",
       "      <th>postalCode</th>\n",
       "      <th>cc</th>\n",
       "      <th>city</th>\n",
       "      <th>state</th>\n",
       "      <th>country</th>\n",
       "      <th>formattedAddress</th>\n",
       "      <th>id</th>\n",
       "    </tr>\n",
       "  </thead>\n",
       "  <tbody>\n",
       "    <tr>\n",
       "      <th>0</th>\n",
       "      <td>Fitness Center</td>\n",
       "      <td>Gym / Fitness Center</td>\n",
       "      <td>1414 S Penn Sq</td>\n",
       "      <td>at The Residences at the Ritz Carlton</td>\n",
       "      <td>39.951488</td>\n",
       "      <td>-75.164925</td>\n",
       "      <td>[{'label': 'display', 'lat': 39.95148849487305...</td>\n",
       "      <td>182</td>\n",
       "      <td>19102</td>\n",
       "      <td>US</td>\n",
       "      <td>Philadelphia</td>\n",
       "      <td>PA</td>\n",
       "      <td>United States</td>\n",
       "      <td>[1414 S Penn Sq (at The Residences at the Ritz...</td>\n",
       "      <td>4e3fd160483b04e17ab3d932</td>\n",
       "    </tr>\n",
       "    <tr>\n",
       "      <th>1</th>\n",
       "      <td>Fitness Center</td>\n",
       "      <td>Gym</td>\n",
       "      <td>1421 Arch St</td>\n",
       "      <td>at Le Méridien Philadelphia</td>\n",
       "      <td>39.954933</td>\n",
       "      <td>-75.164253</td>\n",
       "      <td>[{'label': 'display', 'lat': 39.95493316650390...</td>\n",
       "      <td>253</td>\n",
       "      <td>19102</td>\n",
       "      <td>US</td>\n",
       "      <td>Philadelphia</td>\n",
       "      <td>PA</td>\n",
       "      <td>United States</td>\n",
       "      <td>[1421 Arch St (at Le Méridien Philadelphia), P...</td>\n",
       "      <td>4fe1061ee4b0cc64d6f9f9cf</td>\n",
       "    </tr>\n",
       "    <tr>\n",
       "      <th>2</th>\n",
       "      <td>Fitness Center</td>\n",
       "      <td>Gym</td>\n",
       "      <td>1201 Market St</td>\n",
       "      <td>at Philadelphia Marriott Downtown</td>\n",
       "      <td>39.952059</td>\n",
       "      <td>-75.160670</td>\n",
       "      <td>[{'label': 'display', 'lat': 39.95205877098671...</td>\n",
       "      <td>254</td>\n",
       "      <td>19107</td>\n",
       "      <td>US</td>\n",
       "      <td>Philadelphia</td>\n",
       "      <td>PA</td>\n",
       "      <td>United States</td>\n",
       "      <td>[1201 Market St (at Philadelphia Marriott Down...</td>\n",
       "      <td>4f6c5ff8e4b07a4bc3568a1e</td>\n",
       "    </tr>\n",
       "    <tr>\n",
       "      <th>3</th>\n",
       "      <td>Fitness Center</td>\n",
       "      <td>Gym / Fitness Center</td>\n",
       "      <td>1411 Walnut St</td>\n",
       "      <td>at The Exchange</td>\n",
       "      <td>39.949659</td>\n",
       "      <td>-75.164932</td>\n",
       "      <td>[{'label': 'display', 'lat': 39.94965900000000...</td>\n",
       "      <td>361</td>\n",
       "      <td>19107</td>\n",
       "      <td>US</td>\n",
       "      <td>Philadelphia</td>\n",
       "      <td>PA</td>\n",
       "      <td>United States</td>\n",
       "      <td>[1411 Walnut St (at The Exchange), Philadelphi...</td>\n",
       "      <td>4eb318e94690030a964f2c41</td>\n",
       "    </tr>\n",
       "    <tr>\n",
       "      <th>4</th>\n",
       "      <td>Fitness Center</td>\n",
       "      <td>Gym / Fitness Center</td>\n",
       "      <td>1100 Arch St</td>\n",
       "      <td>at Hilton Garden Inn</td>\n",
       "      <td>39.953663</td>\n",
       "      <td>-75.158089</td>\n",
       "      <td>[{'label': 'display', 'lat': 39.95366287231445...</td>\n",
       "      <td>475</td>\n",
       "      <td>19107</td>\n",
       "      <td>US</td>\n",
       "      <td>Philadelphia</td>\n",
       "      <td>PA</td>\n",
       "      <td>United States</td>\n",
       "      <td>[1100 Arch St (at Hilton Garden Inn), Philadel...</td>\n",
       "      <td>50bcf1bde4b069826d82436c</td>\n",
       "    </tr>\n",
       "  </tbody>\n",
       "</table>\n",
       "</div>"
      ],
      "text/plain": [
       "             name            categories         address  \\\n",
       "0  Fitness Center  Gym / Fitness Center  1414 S Penn Sq   \n",
       "1  Fitness Center                   Gym    1421 Arch St   \n",
       "2  Fitness Center                   Gym  1201 Market St   \n",
       "3  Fitness Center  Gym / Fitness Center  1411 Walnut St   \n",
       "4  Fitness Center  Gym / Fitness Center    1100 Arch St   \n",
       "\n",
       "                             crossStreet        lat        lng  \\\n",
       "0  at The Residences at the Ritz Carlton  39.951488 -75.164925   \n",
       "1            at Le Méridien Philadelphia  39.954933 -75.164253   \n",
       "2      at Philadelphia Marriott Downtown  39.952059 -75.160670   \n",
       "3                        at The Exchange  39.949659 -75.164932   \n",
       "4                   at Hilton Garden Inn  39.953663 -75.158089   \n",
       "\n",
       "                                      labeledLatLngs  distance postalCode  cc  \\\n",
       "0  [{'label': 'display', 'lat': 39.95148849487305...       182      19102  US   \n",
       "1  [{'label': 'display', 'lat': 39.95493316650390...       253      19102  US   \n",
       "2  [{'label': 'display', 'lat': 39.95205877098671...       254      19107  US   \n",
       "3  [{'label': 'display', 'lat': 39.94965900000000...       361      19107  US   \n",
       "4  [{'label': 'display', 'lat': 39.95366287231445...       475      19107  US   \n",
       "\n",
       "           city state        country  \\\n",
       "0  Philadelphia    PA  United States   \n",
       "1  Philadelphia    PA  United States   \n",
       "2  Philadelphia    PA  United States   \n",
       "3  Philadelphia    PA  United States   \n",
       "4  Philadelphia    PA  United States   \n",
       "\n",
       "                                    formattedAddress                        id  \n",
       "0  [1414 S Penn Sq (at The Residences at the Ritz...  4e3fd160483b04e17ab3d932  \n",
       "1  [1421 Arch St (at Le Méridien Philadelphia), P...  4fe1061ee4b0cc64d6f9f9cf  \n",
       "2  [1201 Market St (at Philadelphia Marriott Down...  4f6c5ff8e4b07a4bc3568a1e  \n",
       "3  [1411 Walnut St (at The Exchange), Philadelphi...  4eb318e94690030a964f2c41  \n",
       "4  [1100 Arch St (at Hilton Garden Inn), Philadel...  50bcf1bde4b069826d82436c  "
      ]
     },
     "execution_count": 38,
     "metadata": {},
     "output_type": "execute_result"
    }
   ],
   "source": [
    "# keep only columns that include Fitness center name, and anything that is associated with location in Center City Philadelphia\n",
    "filtered_columns = ['name', 'categories'] + [col for col in dataframe.columns if col.startswith('location.')] + ['id']\n",
    "dataframe_filtered = dataframe.loc[:, filtered_columns]\n",
    "\n",
    "# function that extracts the category of the venue\n",
    "def get_category_type(row):\n",
    "    try:\n",
    "        categories_list = row['categories']\n",
    "    except:\n",
    "        categories_list = row['venue.categories']\n",
    "        \n",
    "    if len(categories_list) == 0:\n",
    "        return None\n",
    "    else:\n",
    "        return categories_list[0]['name']\n",
    "\n",
    "# filter the category for each row\n",
    "dataframe_filtered['categories'] = dataframe_filtered.apply(get_category_type, axis=1)\n",
    "\n",
    "# clean column names by keeping only last term\n",
    "dataframe_filtered.columns = [column.split('.')[-1] for column in dataframe_filtered.columns]\n",
    "\n",
    "dataframe_filtered.head()"
   ]
  },
  {
   "cell_type": "markdown",
   "metadata": {},
   "source": [
    "### Methodology "
   ]
  },
  {
   "cell_type": "markdown",
   "metadata": {},
   "source": [
    "##### Taking data above and plotting those data points on map in correlation to city hall"
   ]
  },
  {
   "cell_type": "code",
   "execution_count": 39,
   "metadata": {},
   "outputs": [
    {
     "data": {
      "text/html": [
       "<div style=\"width:100%;\"><div style=\"position:relative;width:100%;height:0;padding-bottom:60%;\"><span style=\"color:#565656\">Make this Notebook Trusted to load map: File -> Trust Notebook</span><iframe src=\"about:blank\" style=\"position:absolute;width:100%;height:100%;left:0;top:0;border:none !important;\" data-html=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 onload=\"this.contentDocument.open();this.contentDocument.write(atob(this.getAttribute('data-html')));this.contentDocument.close();\" allowfullscreen webkitallowfullscreen mozallowfullscreen></iframe></div></div>"
      ],
      "text/plain": [
       "<folium.folium.Map at 0x7f0b31ffa550>"
      ]
     },
     "execution_count": 39,
     "metadata": {},
     "output_type": "execute_result"
    }
   ],
   "source": [
    "venues_map = folium.Map(location=[latitude, longitude], zoom_start=16)\n",
    "# generate map centred around the City Hall\n",
    "\n",
    "# add a red circle marker to represent the City Hall\n",
    "folium.features.CircleMarker(\n",
    "    [latitude, longitude],\n",
    "    radius=15,\n",
    "    color='Green',\n",
    "    popup='City Hall',\n",
    "    fill = True,\n",
    "    fill_color = 'green',\n",
    "    fill_opacity = 0.5\n",
    ").add_to(venues_map)\n",
    "\n",
    "# Gyms as blue circle markers\n",
    "for lat, lng, label in zip(dataframe_filtered.lat, dataframe_filtered.lng, dataframe_filtered.categories):\n",
    "    folium.features.CircleMarker(\n",
    "        [lat, lng],\n",
    "        radius=3,\n",
    "        color='red',\n",
    "        popup=label,\n",
    "        fill = True,\n",
    "        fill_color='red',\n",
    "        fill_opacity=1.0\n",
    "    ).add_to(venues_map)\n",
    "\n",
    "# display map\n",
    "venues_map"
   ]
  },
  {
   "cell_type": "markdown",
   "metadata": {},
   "source": [
    "### Discussion/Results"
   ]
  },
  {
   "cell_type": "markdown",
   "metadata": {},
   "source": [
    "#### From the map generated above, you can see that there are dozens of options for citizens of Philadelphia have many options for fitness centers around city hall. I had initially thought the number of fitness centers would be less due to the limited number of residents around this area. As with most city centers, these areas are densely populated with offices. However with the high foot traffic these areas see on a daily basis. In the addition that people will have different workout routines such as before work, going on lunch breaks and right after work, before returning home. It would also be ideal to get the membership info of each of these fitness centers to get a better idea of which ones are popular. "
   ]
  },
  {
   "cell_type": "markdown",
   "metadata": {},
   "source": [
    "### Conclusion "
   ]
  },
  {
   "cell_type": "markdown",
   "metadata": {},
   "source": [
    "#### In this study, was to find “fitness centers” around a center location for any new or current resident of Philadelphia, Pennsylvania to find a place to get a workout around city hall. This map can be useful for those select individuals looking at a place like this. "
   ]
  },
  {
   "cell_type": "code",
   "execution_count": null,
   "metadata": {},
   "outputs": [],
   "source": []
  }
 ],
 "metadata": {
  "kernelspec": {
   "display_name": "Python",
   "language": "python",
   "name": "conda-env-python-py"
  },
  "language_info": {
   "codemirror_mode": {
    "name": "ipython",
    "version": 3
   },
   "file_extension": ".py",
   "mimetype": "text/x-python",
   "name": "python",
   "nbconvert_exporter": "python",
   "pygments_lexer": "ipython3",
   "version": "3.6.11"
  }
 },
 "nbformat": 4,
 "nbformat_minor": 4
}
